{
 "cells": [
  {
   "cell_type": "markdown",
   "metadata": {},
   "source": [
    "## 1) Image properties"
   ]
  },
  {
   "cell_type": "code",
   "execution_count": null,
   "metadata": {},
   "outputs": [],
   "source": [
    "from image import Image, ImageProperties, ImageFilters"
   ]
  },
  {
   "cell_type": "code",
   "execution_count": null,
   "metadata": {},
   "outputs": [],
   "source": [
    "%load_ext autoreload\n",
    "%autoreload 2\n"
   ]
  },
  {
   "cell_type": "code",
   "execution_count": null,
   "metadata": {},
   "outputs": [],
   "source": [
    "img = Image('../Images/Sample.jpeg')\n",
    "ImageProperties.summary(img)"
   ]
  },
  {
   "cell_type": "code",
   "execution_count": null,
   "metadata": {},
   "outputs": [],
   "source": [
    "ImageProperties.to_hsv(img).show()"
   ]
  },
  {
   "cell_type": "code",
   "execution_count": null,
   "metadata": {},
   "outputs": [],
   "source": [
    "img.data[0][0]"
   ]
  },
  {
   "cell_type": "code",
   "execution_count": null,
   "metadata": {},
   "outputs": [],
   "source": [
    "img.display()"
   ]
  },
  {
   "cell_type": "markdown",
   "metadata": {},
   "source": [
    "## 2) Filters"
   ]
  },
  {
   "cell_type": "code",
   "execution_count": null,
   "metadata": {},
   "outputs": [],
   "source": [
    "ImageFilters.gaussian_blur(img).display()"
   ]
  },
  {
   "cell_type": "code",
   "execution_count": null,
   "metadata": {},
   "outputs": [],
   "source": [
    "ImageFilters.average(img).display()"
   ]
  },
  {
   "cell_type": "code",
   "execution_count": null,
   "metadata": {},
   "outputs": [],
   "source": [
    "ImageFilters.edge_detection(img).display()"
   ]
  },
  {
   "cell_type": "code",
   "execution_count": null,
   "metadata": {},
   "outputs": [],
   "source": [
    "ImageFilters.laplacian(img).display()"
   ]
  },
  {
   "cell_type": "markdown",
   "metadata": {},
   "source": [
    "## RGB image"
   ]
  },
  {
   "cell_type": "code",
   "execution_count": null,
   "metadata": {},
   "outputs": [],
   "source": [
    "from image import Image\n",
    "import numpy as np\n",
    "l = 256\n",
    "\n",
    "img_r = Image()\n",
    "img_b = Image()\n",
    "img_g = Image()\n",
    "\n",
    "img_r.data = np.zeros((l,l,3),dtype=np.uint8)\n",
    "img_r.data[:,:,0] = 255\n",
    "img_r.display() \n",
    "print(img_r.data[0][0])\n",
    "\n",
    "img_b.data = np.zeros((l,l,3),dtype=np.uint8)\n",
    "img_b.data[:,:,2] = 255\n",
    "img_b.display()\n",
    "print(img_b.data[0][0])\n",
    "\n",
    "img_g.data = np.zeros((l,l,3),dtype=np.uint8)\n",
    "img_g.data[:,:,1] = 255\n",
    "img_g.display()\n",
    "print(img_g.data[0][0])\n",
    "\n",
    "\n"
   ]
  },
  {
   "cell_type": "code",
   "execution_count": null,
   "metadata": {},
   "outputs": [],
   "source": [
    "def combine(weight_r,weight_g,weight_b):\n",
    "    img = Image()\n",
    "    img.data = np.zeros((l,l,3),dtype=np.uint8)\n",
    "    img.data = np.int16(weight_r*img_r.data + weight_g*img_g.data + weight_b*img_b.data)\n",
    "    return img\n",
    "\n",
    "img_w = combine(1,1,1)\n",
    "img_w.display()\n",
    "print(img_w.data[0][0])\n",
    "\n",
    "img_y = combine(1,1,0)\n",
    "img_y.display()\n",
    "print(img_y.data[0][0])\n",
    "\n",
    "img_c = combine(0,1,1)\n",
    "img_c.display()\n",
    "print(img_c.data[0][0])\n",
    "\n",
    "img_m = combine(1,0,1)\n",
    "img_m.display()\n",
    "print(img_m.data[0][0])"
   ]
  },
  {
   "cell_type": "code",
   "execution_count": null,
   "metadata": {},
   "outputs": [],
   "source": [
    "import ipywidgets as widgets\n",
    "from IPython.display import display\n",
    "import matplotlib.pyplot as plt\n",
    "\n",
    "def update_image(weight_r, weight_g, weight_b):\n",
    "    combined_img = combine(weight_r, weight_g, weight_b)\n",
    "    plt.imshow(combined_img.data)\n",
    "    plt.axis('off')\n",
    "    plt.show()\n",
    "\n",
    "r_slider = widgets.FloatSlider(value=0.33, min=0, max=1, step=0.01, description='Red weight:')\n",
    "g_slider = widgets.FloatSlider(value=0.33, min=0, max=1, step=0.01, description='Green weight:')\n",
    "b_slider = widgets.FloatSlider(value=0.33, min=0, max=1, step=0.01, description='Blue weight:')\n",
    "\n",
    "# Interactive display\n",
    "ui = widgets.VBox([r_slider, g_slider, b_slider])\n",
    "out = widgets.interactive_output(update_image, {'weight_r': r_slider, 'weight_g': g_slider, 'weight_b': b_slider})\n",
    "\n",
    "display(ui, out)\n"
   ]
  }
 ],
 "metadata": {
  "kernelspec": {
   "display_name": "base",
   "language": "python",
   "name": "python3"
  },
  "language_info": {
   "codemirror_mode": {
    "name": "ipython",
    "version": 3
   },
   "file_extension": ".py",
   "mimetype": "text/x-python",
   "name": "python",
   "nbconvert_exporter": "python",
   "pygments_lexer": "ipython3",
   "version": "3.12.4"
  }
 },
 "nbformat": 4,
 "nbformat_minor": 2
}
