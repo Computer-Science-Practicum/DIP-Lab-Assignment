{
 "cells": [
  {
   "cell_type": "code",
   "execution_count": null,
   "metadata": {},
   "outputs": [],
   "source": [
    "import sys\n",
    "sys.path.append('../')"
   ]
  },
  {
   "cell_type": "code",
   "execution_count": null,
   "metadata": {},
   "outputs": [],
   "source": [
    "%load_ext autoreload\n",
    "%autoreload 2"
   ]
  },
  {
   "cell_type": "markdown",
   "metadata": {},
   "source": [
    "##  DFT"
   ]
  },
  {
   "cell_type": "code",
   "execution_count": null,
   "metadata": {},
   "outputs": [],
   "source": [
    "from core.image import Image\n",
    "from core.dft import DFT"
   ]
  },
  {
   "cell_type": "code",
   "execution_count": null,
   "metadata": {},
   "outputs": [],
   "source": [
    "img = Image('../Images/lenna.png')\n",
    "dft = DFT(img)\n",
    "\n",
    "img.display()\n",
    "dft.phase().display()\n",
    "dft.amplitude(log=True).display()"
   ]
  },
  {
   "cell_type": "markdown",
   "metadata": {},
   "source": [
    "## Low Pass filter"
   ]
  },
  {
   "cell_type": "code",
   "execution_count": null,
   "metadata": {},
   "outputs": [],
   "source": [
    "dft_low_pass = dft.low_pass_filter(50)\n",
    "dft_low_pass.amplitude(log=True).display()\n",
    "dft_low_pass.phase().display()\n",
    "dft_low_pass.inverse().display()\n"
   ]
  },
  {
   "cell_type": "markdown",
   "metadata": {},
   "source": [
    "## Hight Pass filter"
   ]
  },
  {
   "cell_type": "code",
   "execution_count": null,
   "metadata": {},
   "outputs": [],
   "source": [
    "dft_high_pass = dft.high_pass_filter(100)\n",
    "dft_high_pass.amplitude(log=True).display()\n",
    "print(dft_high_pass.data[5][5])\n",
    "dft_high_pass.phase().display()\n",
    "dft_high_pass.inverse().display()"
   ]
  },
  {
   "cell_type": "markdown",
   "metadata": {},
   "source": [
    "## MidBand Filter"
   ]
  },
  {
   "cell_type": "code",
   "execution_count": null,
   "metadata": {},
   "outputs": [],
   "source": [
    "dft_high_pass.data += dft_low_pass.data\n"
   ]
  },
  {
   "cell_type": "code",
   "execution_count": null,
   "metadata": {},
   "outputs": [],
   "source": [
    "dft_high_pass.amplitude(log=True).display()\n",
    "dft_high_pass.phase().display()\n",
    "dft_high_pass.inverse().display()"
   ]
  },
  {
   "cell_type": "markdown",
   "metadata": {},
   "source": [
    "## Convolution and DFT"
   ]
  },
  {
   "cell_type": "code",
   "execution_count": null,
   "metadata": {},
   "outputs": [],
   "source": [
    "import numpy as np\n",
    "from core.image import ImageFilters\n",
    "\n",
    "kernel = np.ones((10,10))/100\n",
    "# kernel = np.array([[0, -1, 0], [-1, 5, -1], [0, -1, 0]])\n",
    "\n",
    "img2 = ImageFilters.convolve(img, kernel).display()"
   ]
  },
  {
   "cell_type": "code",
   "execution_count": null,
   "metadata": {},
   "outputs": [],
   "source": [
    "kernel_dft = Image()\n",
    "kernel_dft.data = np.zeros(img.data.shape)\n",
    "kernel_dft.data[:kernel.shape[0], :kernel.shape[1]] = kernel\n",
    "kernel_dft.display()\n",
    "\n",
    "kernel_dft = DFT(kernel_dft)\n",
    "img_dft = DFT(img)\n",
    "\n",
    "img_dft_2 = DFT()\n",
    "\n",
    "\n",
    "\n",
    "img_dft_2.data = img_dft.data * kernel_dft.data\n",
    "\n",
    "img_dft_2.inverse().display()"
   ]
  }
 ],
 "metadata": {
  "kernelspec": {
   "display_name": "base",
   "language": "python",
   "name": "python3"
  },
  "language_info": {
   "codemirror_mode": {
    "name": "ipython",
    "version": 3
   },
   "file_extension": ".py",
   "mimetype": "text/x-python",
   "name": "python",
   "nbconvert_exporter": "python",
   "pygments_lexer": "ipython3",
   "version": "3.12.4"
  }
 },
 "nbformat": 4,
 "nbformat_minor": 2
}
